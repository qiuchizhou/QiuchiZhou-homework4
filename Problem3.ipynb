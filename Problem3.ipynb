{
 "cells": [
  {
   "cell_type": "code",
   "execution_count": null,
   "metadata": {},
   "outputs": [],
   "source": [
    "#Problem 3\n",
    "MajorTask_Day = ('Wake Up','Take shower','Eat breakfast','Go to work','Eat lunch','Go back to work','Eat Dinner','Study Python','Go to gym','Sleep')\n",
    "print(\"My typical day is as follows\",MajorTask_Day)\n",
    "Order = (1,2,3,4,5,6,7,8,9,10)\n",
    "MajorTask_Day + Order"
   ]
  }
 ],
 "metadata": {
  "kernelspec": {
   "display_name": "Python 3",
   "language": "python",
   "name": "python3"
  },
  "language_info": {
   "codemirror_mode": {
    "name": "ipython",
    "version": 3
   },
   "file_extension": ".py",
   "mimetype": "text/x-python",
   "name": "python",
   "nbconvert_exporter": "python",
   "pygments_lexer": "ipython3",
   "version": "3.6.4"
  }
 },
 "nbformat": 4,
 "nbformat_minor": 2
}
