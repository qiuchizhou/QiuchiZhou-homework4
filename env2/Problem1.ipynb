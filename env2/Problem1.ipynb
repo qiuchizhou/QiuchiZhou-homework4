{
 "cells": [
  {
   "cell_type": "code",
   "execution_count": null,
   "metadata": {},
   "outputs": [],
   "source": [
    "#Problem 1\n",
    "Concepts ={\n",
    "'Dictionary': 'A collection of key-value pairs',\n",
    "'String': 'A series of characters',\n",
    "'Boolean Expression': 'An expression that evaluates to True or False',\n",
    "'Comment': 'A note in a program that the Python interpreter ignores',\n",
    "'Value': 'An item associated with a key in a dictionary',\n",
    "'Loop': 'Work through a collection of items, one at a time',\n",
    "'List': 'A collection of items in a particular order',\n",
    "'Key': 'The first item in a key-value pair in a dictionary',\n",
    "'Float': 'A numerical value with a decimal component'\n",
    "}\n",
    "\n",
    "for concept in Concepts.items():\n",
    "    print(concept)"
   ]
  }
 ],
 "metadata": {
  "kernelspec": {
   "display_name": "Python 3",
   "language": "python",
   "name": "python3"
  },
  "language_info": {
   "codemirror_mode": {
    "name": "ipython",
    "version": 3
   },
   "file_extension": ".py",
   "mimetype": "text/x-python",
   "name": "python",
   "nbconvert_exporter": "python",
   "pygments_lexer": "ipython3",
   "version": "3.6.4"
  }
 },
 "nbformat": 4,
 "nbformat_minor": 2
}
