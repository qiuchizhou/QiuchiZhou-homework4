{
 "cells": [
  {
   "cell_type": "code",
   "execution_count": null,
   "metadata": {},
   "outputs": [],
   "source": [
    "#Problem 2\n",
    "myfavmovie_set ={'The Shawshank Redemption','The Godfather','Inception','Star Wars'}\n",
    "print(myfavmovie_set)\n",
    "otherfavmovie_set ={'The Godfather','Forrest Gump','Saving Private Ryan','Star Wars'}\n",
    "print(otherfavmovie_set)\n",
    "\n",
    "#Favorite movies in common\n",
    "myfavmovie_set.intersection(otherfavmovie_set)\n",
    "print(\"Favorite movies in common are\",myfavmovie_set.intersection(otherfavmovie_set))\n",
    "#My favorite movies but aren't the other persons\n",
    "myfavmovie_set.difference(otherfavmovie_set)\n",
    "print(\"My favorite movies but aren't other persons\",myfavmovie_set.difference(otherfavmovie_set))"
   ]
  }
 ],
 "metadata": {
  "kernelspec": {
   "display_name": "Python 3",
   "language": "python",
   "name": "python3"
  },
  "language_info": {
   "codemirror_mode": {
    "name": "ipython",
    "version": 3
   },
   "file_extension": ".py",
   "mimetype": "text/x-python",
   "name": "python",
   "nbconvert_exporter": "python",
   "pygments_lexer": "ipython3",
   "version": "3.6.4"
  }
 },
 "nbformat": 4,
 "nbformat_minor": 2
}
